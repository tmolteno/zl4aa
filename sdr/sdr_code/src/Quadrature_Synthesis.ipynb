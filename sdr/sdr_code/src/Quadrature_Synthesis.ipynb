{
 "cells": [
  {
   "cell_type": "markdown",
   "id": "7b51a064",
   "metadata": {},
   "source": [
    "# Calculating MS5351M PLL Settings\n",
    "\n",
    "\n",
    "There are several parameters that we can modify to choose the output frequency. The constraint that we want quadrature I/Q outputs as part of CLK0 and CLK1 provides a strong restriction on possible frequencies. We only use PLLA for the quadrature output, as the frequencies are identical.\n",
    "\n",
    "The constraints are:\n",
    "* Quadrature requires an even multiple, $N$, of the output frequency to be the PLL frequency. The delay register (CLKx_PHOFF) must then be set to $N$, to get the quadrature output on the second clock.\n",
    "* The PLL frequency must be between 600 and 900 MHz\n",
    "* THe input clock is $f_{clk} = 25$ MHz.\n",
    "* Above 150 MHz, the output divide ratio, $M_{output} R$, must be 4.\n",
    "\t\t\n",
    "The output frequency is given by the expression\n",
    "$$ f_{vco} = (f_{clk} / D) * M_{feedback} $$\n",
    "$$ f_{out} = \\frac{f_{vco}}{M_{output} R} $$\n",
    "\n",
    "\n",
    "$$ M_{feedback} = a + b/c $$\n",
    "where a, b, c are roughly integers\n",
    "\n",
    "P1[17:0] = (a << 7) + \n",
    "\n"
   ]
  },
  {
   "cell_type": "code",
   "execution_count": 1,
   "id": "279a2faa",
   "metadata": {},
   "outputs": [],
   "source": [
    "import math\n",
    "\n",
    "def multisynth(f_clk, a, b, c, d):\n",
    "    return (f_clk/d) * (a + b/c)\n",
    "\n",
    "\n",
    "def get_closest_vco(f_clk, vco_previous, vco_desired):\n",
    "    best = {}\n",
    "    best['fit'] = 9e99\n",
    "\n",
    "    for d in [1, 2, 4, 8]:\n",
    "        for a in range(1, 90):\n",
    "            for b in range(0, 90):\n",
    "                for c in range(1, 5000):\n",
    "                    \n",
    "                    m = a + b/c\n",
    "                    if m < 15:\n",
    "                        break\n",
    "                    if m > 90:\n",
    "                        break\n",
    "                        \n",
    "                    f_vco = multisynth(f_clk, a, b, c, d)\n",
    "                    df = f_vco - vco_desired\n",
    "                    fit = math.sqrt(df*df)\n",
    "                    if fit < best['fit']:\n",
    "                        best['fit'] = fit\n",
    "                        best['a'] = a\n",
    "                        best['b'] = b\n",
    "                        best['c'] = c\n",
    "                        best['d'] = d\n",
    "                        best['f_vco'] = f_vco\n",
    "                        best['df'] = df\n",
    "                    if fit < 1.0:\n",
    "                        return best\n",
    "    print(best)            \n",
    "    return best\n",
    "        \n",
    "def synth(f_clk, f_desired):\n",
    "    ret = {}\n",
    "    \n",
    "    if f_desired > 150e6:\n",
    "        n_start = 2\n",
    "        n_stop = 2\n",
    "        N = 4\n",
    "    else:\n",
    "        # Search for best f_vco (an even integer multiple)        \n",
    "        n_stop = math.floor(900e6 / (2*f_desired))+1\n",
    "        n_start = math.floor(600e6 / (2*f_desired))\n",
    "                \n",
    "    best = {}\n",
    "    best['fit'] = 9e99\n",
    "        \n",
    "    for n in range(n_start, n_stop+1):\n",
    "        N = 2*n # Use even multipliers only for quadrature\n",
    "        f_vco = f_desired*N\n",
    "        if (f_vco > 600e6) and (f_vco < 900e6):\n",
    "            # Now try and get f_vco from f_in\n",
    "                \n",
    "            test = get_closest_vco(f_clk, f_vco, f_vco)\n",
    "                \n",
    "            if test['fit'] < best['fit']:\n",
    "                best = test\n",
    "                    \n",
    "            if best['fit'] < 1:\n",
    "                break\n",
    "    ret['multisynth'] = best\n",
    "    ret['f'] = best['f_vco']/N\n",
    "    ret['N'] = N\n",
    "\n",
    "    \n",
    "    return ret"
   ]
  },
  {
   "cell_type": "code",
   "execution_count": 2,
   "id": "0fc0249b",
   "metadata": {
    "scrolled": true
   },
   "outputs": [
    {
     "name": "stdout",
     "output_type": "stream",
     "text": [
      "{'fit': 512.8205128908157, 'a': 49, 'b': 38, 'c': 39, 'd': 2, 'f_vco': 624679487.1794871, 'df': -512.8205128908157}\n"
     ]
    },
    {
     "data": {
      "text/plain": [
       "{'multisynth': {'fit': 0.0,\n",
       "  'a': 26,\n",
       "  'b': 46,\n",
       "  'c': 625,\n",
       "  'd': 1,\n",
       "  'f_vco': 651840000.0,\n",
       "  'df': 0.0},\n",
       " 'f': 13580000.0,\n",
       " 'N': 48}"
      ]
     },
     "execution_count": 2,
     "metadata": {},
     "output_type": "execute_result"
    }
   ],
   "source": [
    "synth(25e6, 13580000)"
   ]
  },
  {
   "cell_type": "code",
   "execution_count": 3,
   "id": "9de6029d",
   "metadata": {},
   "outputs": [
    {
     "name": "stdout",
     "output_type": "stream",
     "text": [
      "{'fit': 69.7259771823883, 'a': 25, 'b': 25, 'c': 73, 'd': 1, 'f_vco': 633561643.8356165, 'df': -69.7259771823883}\n",
      "{'fit': 9113.100670814514, 'a': 33, 'b': 49, 'c': 62, 'd': 1, 'f_vco': 844758064.516129, 'df': 9113.100670814514}\n",
      "105593618.92693228 {'multisynth': {'fit': 69.7259771823883, 'a': 25, 'b': 25, 'c': 73, 'd': 1, 'f_vco': 633561643.8356165, 'df': -69.7259771823883}, 'f': 63356164.38356165, 'N': 10}\n",
      "dict_keys(['multisynth', 'f', 'N'])\n",
      "{'fit': 675.6544908285141, 'a': 27, 'b': 57, 'c': 124, 'd': 1, 'f_vco': 686491935.483871, 'df': -675.6544908285141}\n",
      "{'fit': 9.233807444572449, 'a': 32, 'b': 47, 'c': 1294, 'd': 1, 'f_vco': 800908037.0942813, 'df': -9.233807444572449}\n",
      "57207717.59486348 {'multisynth': {'fit': 9.233807444572449, 'a': 32, 'b': 47, 'c': 1294, 'd': 1, 'f_vco': 800908037.0942813, 'df': -9.233807444572449}, 'f': 50056752.31839258, 'N': 16}\n",
      "dict_keys(['multisynth', 'f', 'N'])\n",
      "{'fit': 271.4384070634842, 'a': 25, 'b': 61, 'c': 257, 'd': 1, 'f_vco': 630933852.1400778, 'df': 271.4384070634842}\n",
      "{'fit': 3440.8748450279236, 'a': 26, 'b': 22, 'c': 27, 'd': 1, 'f_vco': 670370370.3703703, 'df': 3440.8748450279236}\n",
      "{'fit': 278.2893795967102, 'a': 28, 'b': 49, 'c': 125, 'd': 1, 'f_vco': 709800000.0, 'df': -278.2893795967102}\n",
      "{'fit': 8797.159190177917, 'a': 29, 'b': 32, 'c': 33, 'd': 1, 'f_vco': 749242424.2424242, 'df': 8797.159190177917}\n",
      "{'fit': 309.2104218006134, 'a': 31, 'b': 41, 'c': 75, 'd': 1, 'f_vco': 788666666.6666666, 'df': -309.2104218006134}\n",
      "{'fit': 60.818700194358826, 'a': 33, 'b': 47, 'c': 379, 'd': 1, 'f_vco': 828100263.8522427, 'df': -60.818700194358826}\n",
      "{'fit': 1205.9323296546936, 'a': 34, 'b': 54, 'c': 77, 'd': 1, 'f_vco': 867532467.5324676, 'df': -1205.9323296546936}\n",
      "19716674.39692721 {'multisynth': {'fit': 60.818700194358826, 'a': 33, 'b': 47, 'c': 379, 'd': 1, 'f_vco': 828100263.8522427, 'df': -60.818700194358826}, 'f': 18002179.648961797, 'N': 46}\n",
      "dict_keys(['multisynth', 'f', 'N'])\n",
      "{'fit': 5161.697070240974, 'a': 26, 'b': 48, 'c': 53, 'd': 1, 'f_vco': 672641509.4339622, 'df': -5161.697070240974}\n",
      "{'fit': 12771.825290083885, 'a': 29, 'b': 55, 'c': 8, 'd': 1, 'f_vco': 896875000.0, 'df': 12771.825290083885}\n",
      "112107778.52183874 {'multisynth': {'fit': 5161.697070240974, 'a': 26, 'b': 48, 'c': 53, 'd': 1, 'f_vco': 672641509.4339622, 'df': -5161.697070240974}, 'f': 67264150.94339623, 'N': 10}\n",
      "dict_keys(['multisynth', 'f', 'N'])\n",
      "{'fit': 95.39225244522095, 'a': 49, 'b': 34, 'c': 175, 'd': 2, 'f_vco': 614928571.4285713, 'df': 95.39225244522095}\n",
      "{'fit': 152.114808678627, 'a': 51, 'b': 35, 'c': 216, 'd': 2, 'f_vco': 639525462.962963, 'df': -152.114808678627}\n",
      "{'fit': 52.898319482803345, 'a': 53, 'b': 37, 'c': 285, 'd': 2, 'f_vco': 664122807.0175439, 'df': 52.898319482803345}\n",
      "{'fit': 380.96555531024933, 'a': 27, 'b': 45, 'c': 82, 'd': 1, 'f_vco': 688719512.1951219, 'df': -380.96555531024933}\n",
      "{'fit': 38.73807764053345, 'a': 57, 'b': 10, 'c': 153, 'd': 2, 'f_vco': 713316993.4640523, 'df': -38.73807764053345}\n",
      "{'fit': 14.617076635360718, 'a': 59, 'b': 11, 'c': 332, 'd': 2, 'f_vco': 737914156.6265061, 'df': -14.617076635360718}\n",
      "12298569.520726379 {'multisynth': {'fit': 0.6265871524810791, 'a': 61, 'b': 4, 'c': 4421, 'd': 2, 'f_vco': 762511309.6584483, 'df': -0.6265871524810791}, 'f': 12298569.510620134, 'N': 62}\n",
      "dict_keys(['multisynth', 'f', 'N'])\n",
      "{'fit': 421.59908843040466, 'a': 28, 'b': 48, 'c': 25, 'd': 1, 'f_vco': 748000000.0, 'df': 421.59908843040466}\n",
      "124666596.40015192 {'multisynth': {'fit': 421.59908843040466, 'a': 28, 'b': 48, 'c': 25, 'd': 1, 'f_vco': 748000000.0, 'df': 421.59908843040466}, 'f': 93500000.0, 'N': 8}\n",
      "dict_keys(['multisynth', 'f', 'N'])\n",
      "{'fit': 53.428187251091, 'a': 31, 'b': 54, 'c': 481, 'd': 1, 'f_vco': 777806652.8066528, 'df': -53.428187251091}\n",
      "129634451.03914 {'multisynth': {'fit': 53.428187251091, 'a': 31, 'b': 54, 'c': 481, 'd': 1, 'f_vco': 777806652.8066528, 'df': -53.428187251091}, 'f': 97225831.6008316, 'N': 8}\n",
      "dict_keys(['multisynth', 'f', 'N'])\n",
      "{'fit': 2695.72542655468, 'a': 24, 'b': 54, 'c': 37, 'd': 1, 'f_vco': 636486486.4864864, 'df': -2695.72542655468}\n",
      "{'fit': 900.1320997476578, 'a': 28, 'b': 62, 'c': 215, 'd': 1, 'f_vco': 707209302.3255814, 'df': -900.1320997476578}\n",
      "{'fit': 188.2206907272339, 'a': 31, 'b': 17, 'c': 145, 'd': 1, 'f_vco': 777931034.4827585, 'df': -188.2206907272339}\n",
      "{'fit': 3594.3005686998367, 'a': 33, 'b': 35, 'c': 37, 'd': 1, 'f_vco': 848648648.6486486, 'df': -3594.3005686998367}\n",
      "35360510.12288406 {'multisynth': {'fit': 188.2206907272339, 'a': 31, 'b': 17, 'c': 145, 'd': 1, 'f_vco': 777931034.4827585, 'df': -188.2206907272339}, 'f': 29920424.40318302, 'N': 26}\n",
      "dict_keys(['multisynth', 'f', 'N'])\n",
      "{'fit': 1196.668096780777, 'a': 25, 'b': 26, 'c': 75, 'd': 1, 'f_vco': 633666666.6666667, 'df': -1196.668096780777}\n",
      "{'fit': 23.852298378944397, 'a': 30, 'b': 57, 'c': 137, 'd': 1, 'f_vco': 760401459.8540145, 'df': 23.852298378944397}\n",
      "{'fit': 913.6614282131195, 'a': 35, 'b': 50, 'c': 103, 'd': 1, 'f_vco': 887135922.3300971, 'df': 913.6614282131195}\n",
      "63366786.33347635 {'multisynth': {'fit': 23.852298378944397, 'a': 30, 'b': 57, 'c': 137, 'd': 1, 'f_vco': 760401459.8540145, 'df': 23.852298378944397}, 'f': 47525091.24087591, 'N': 16}\n",
      "dict_keys(['multisynth', 'f', 'N'])\n",
      "{'fit': 1004.0973583459854, 'a': 27, 'b': 31, 'c': 72, 'd': 1, 'f_vco': 685763888.888889, 'df': -1004.0973583459854}\n",
      "{'fit': 233.8798679113388, 'a': 34, 'b': 49, 'c': 170, 'd': 1, 'f_vco': 857205882.3529412, 'df': -233.8798679113388}\n",
      "85720611.62328091 {'multisynth': {'fit': 233.8798679113388, 'a': 34, 'b': 49, 'c': 170, 'd': 1, 'f_vco': 857205882.3529412, 'df': -233.8798679113388}, 'f': 71433823.52941176, 'N': 12}\n",
      "dict_keys(['multisynth', 'f', 'N'])\n",
      "{'fit': 746.5140061378479, 'a': 28, 'b': 20, 'c': 69, 'd': 1, 'f_vco': 707246376.8115942, 'df': 746.5140061378479}\n",
      "117874271.7162647 {'multisynth': {'fit': 746.5140061378479, 'a': 28, 'b': 20, 'c': 69, 'd': 1, 'f_vco': 707246376.8115942, 'df': 746.5140061378479}, 'f': 88405797.10144928, 'N': 8}\n",
      "dict_keys(['multisynth', 'f', 'N'])\n",
      "{'fit': 4100.603083491325, 'a': 26, 'b': 37, 'c': 44, 'd': 1, 'f_vco': 671022727.2727273, 'df': -4100.603083491325}\n",
      "{'fit': 5467.470777869225, 'a': 35, 'b': 26, 'c': 33, 'd': 1, 'f_vco': 894696969.6969697, 'df': -5467.470777869225}\n",
      "111837804.64596845 {'multisynth': {'fit': 4100.603083491325, 'a': 26, 'b': 37, 'c': 44, 'd': 1, 'f_vco': 671022727.2727273, 'df': -4100.603083491325}, 'f': 67102272.72727273, 'N': 10}\n",
      "dict_keys(['multisynth', 'f', 'N'])\n",
      "{'fit': 2.3320165872573853, 'a': 29, 'b': 51, 'c': 2687, 'd': 1, 'f_vco': 725474506.8850019, 'df': -2.3320165872573853}\n",
      "120912418.20283641 {'multisynth': {'fit': 2.3320165872573853, 'a': 29, 'b': 51, 'c': 2687, 'd': 1, 'f_vco': 725474506.8850019, 'df': -2.3320165872573853}, 'f': 90684313.36062524, 'N': 8}\n",
      "dict_keys(['multisynth', 'f', 'N'])\n",
      "{'fit': 123.24953579902649, 'a': 49, 'b': 15, 'c': 92, 'd': 2, 'f_vco': 614538043.4782609, 'df': -123.24953579902649}\n",
      "{'fit': 5034.5358637571335, 'a': 23, 'b': 56, 'c': 19, 'd': 1, 'f_vco': 648684210.5263158, 'df': 5034.5358637571335}\n",
      "{'fit': 327.5674053430557, 'a': 27, 'b': 61, 'c': 195, 'd': 1, 'f_vco': 682820512.8205128, 'df': 327.5674053430557}\n",
      "{'fit': 3091.198522925377, 'a': 27, 'b': 47, 'c': 28, 'd': 1, 'f_vco': 716964285.7142857, 'df': 3091.198522925377}\n",
      "17070504.631327685 {'multisynth': {'fit': 0.6303994655609131, 'a': 30, 'b': 22, 'c': 499, 'd': 1, 'f_vco': 751102204.4088176, 'df': 0.6303994655609131}, 'f': 17070504.645654947, 'N': 44}\n",
      "dict_keys(['multisynth', 'f', 'N'])\n",
      "{'fit': 5.265554904937744, 'a': 49, 'b': 41, 'c': 1015, 'd': 2, 'f_vco': 613004926.1083744, 'df': -5.265554904937744}\n",
      "{'fit': 929.0863935947418, 'a': 25, 'b': 27, 'c': 80, 'd': 1, 'f_vco': 633437500.0, 'df': -929.0863935947418}\n",
      "{'fit': 127.07319593429565, 'a': 26, 'b': 46, 'c': 297, 'd': 1, 'f_vco': 653872053.8720539, 'df': 127.07319593429565}\n",
      "{'fit': 131.04423332214355, 'a': 26, 'b': 35, 'c': 36, 'd': 1, 'f_vco': 674305555.5555556, 'df': 131.04423332214355}\n",
      "{'fit': 2080.1185233592987, 'a': 25, 'b': 53, 'c': 19, 'd': 1, 'f_vco': 694736842.1052632, 'df': -2080.1185233592987}\n",
      "{'fit': 6.143147349357605, 'a': 57, 'b': 31, 'c': 145, 'd': 2, 'f_vco': 715172413.7931035, 'df': -6.143147349357605}\n",
      "{'fit': 142.95734548568726, 'a': 28, 'b': 47, 'c': 33, 'd': 1, 'f_vco': 735606060.6060606, 'df': 142.95734548568726}\n"
     ]
    },
    {
     "name": "stdout",
     "output_type": "stream",
     "text": [
      "{'fit': 89.5184828042984, 'a': 30, 'b': 43, 'c': 178, 'd': 1, 'f_vco': 756039325.8426967, 'df': -89.5184828042984}\n",
      "{'fit': 16.862661838531494, 'a': 31, 'b': 37, 'c': 628, 'd': 1, 'f_vco': 776472929.9363056, 'df': 16.862661838531494}\n",
      "{'fit': 16666.13696885109, 'a': 31, 'b': 57, 'c': 65, 'd': 1, 'f_vco': 796923076.923077, 'df': 16666.13696885109}\n"
     ]
    },
    {
     "ename": "KeyboardInterrupt",
     "evalue": "",
     "output_type": "error",
     "traceback": [
      "\u001b[0;31m---------------------------------------------------------------------------\u001b[0m",
      "\u001b[0;31mKeyboardInterrupt\u001b[0m                         Traceback (most recent call last)",
      "Cell \u001b[0;32mIn [3], line 9\u001b[0m\n\u001b[1;32m      6\u001b[0m data \u001b[38;5;241m=\u001b[39m []\n\u001b[1;32m      8\u001b[0m \u001b[38;5;28;01mfor\u001b[39;00m f \u001b[38;5;129;01min\u001b[39;00m freq:\n\u001b[0;32m----> 9\u001b[0m     x \u001b[38;5;241m=\u001b[39m \u001b[43msynth\u001b[49m\u001b[43m(\u001b[49m\u001b[38;5;241;43m25e6\u001b[39;49m\u001b[43m,\u001b[49m\u001b[43m \u001b[49m\u001b[43mf\u001b[49m\u001b[43m)\u001b[49m\n\u001b[1;32m     10\u001b[0m     \u001b[38;5;28mprint\u001b[39m(f, x)\n\u001b[1;32m     11\u001b[0m     \u001b[38;5;28mprint\u001b[39m(x\u001b[38;5;241m.\u001b[39mkeys())\n",
      "Cell \u001b[0;32mIn [1], line 59\u001b[0m, in \u001b[0;36msynth\u001b[0;34m(f_clk, f_desired)\u001b[0m\n\u001b[1;32m     55\u001b[0m f_vco \u001b[38;5;241m=\u001b[39m f_desired\u001b[38;5;241m*\u001b[39mN\n\u001b[1;32m     56\u001b[0m \u001b[38;5;28;01mif\u001b[39;00m (f_vco \u001b[38;5;241m>\u001b[39m \u001b[38;5;241m600e6\u001b[39m) \u001b[38;5;129;01mand\u001b[39;00m (f_vco \u001b[38;5;241m<\u001b[39m \u001b[38;5;241m900e6\u001b[39m):\n\u001b[1;32m     57\u001b[0m     \u001b[38;5;66;03m# Now try and get f_vco from f_in\u001b[39;00m\n\u001b[0;32m---> 59\u001b[0m     test \u001b[38;5;241m=\u001b[39m \u001b[43mget_closest_vco\u001b[49m\u001b[43m(\u001b[49m\u001b[43mf_clk\u001b[49m\u001b[43m,\u001b[49m\u001b[43m \u001b[49m\u001b[43mf_vco\u001b[49m\u001b[43m,\u001b[49m\u001b[43m \u001b[49m\u001b[43mf_vco\u001b[49m\u001b[43m)\u001b[49m\n\u001b[1;32m     61\u001b[0m     \u001b[38;5;28;01mif\u001b[39;00m test[\u001b[38;5;124m'\u001b[39m\u001b[38;5;124mfit\u001b[39m\u001b[38;5;124m'\u001b[39m] \u001b[38;5;241m<\u001b[39m best[\u001b[38;5;124m'\u001b[39m\u001b[38;5;124mfit\u001b[39m\u001b[38;5;124m'\u001b[39m]:\n\u001b[1;32m     62\u001b[0m         best \u001b[38;5;241m=\u001b[39m test\n",
      "Cell \u001b[0;32mIn [1], line 22\u001b[0m, in \u001b[0;36mget_closest_vco\u001b[0;34m(f_clk, vco_previous, vco_desired)\u001b[0m\n\u001b[1;32m     19\u001b[0m \u001b[38;5;28;01mif\u001b[39;00m m \u001b[38;5;241m>\u001b[39m \u001b[38;5;241m90\u001b[39m:\n\u001b[1;32m     20\u001b[0m     \u001b[38;5;28;01mbreak\u001b[39;00m\n\u001b[0;32m---> 22\u001b[0m f_vco \u001b[38;5;241m=\u001b[39m \u001b[43mmultisynth\u001b[49m\u001b[43m(\u001b[49m\u001b[43mf_clk\u001b[49m\u001b[43m,\u001b[49m\u001b[43m \u001b[49m\u001b[43ma\u001b[49m\u001b[43m,\u001b[49m\u001b[43m \u001b[49m\u001b[43mb\u001b[49m\u001b[43m,\u001b[49m\u001b[43m \u001b[49m\u001b[43mc\u001b[49m\u001b[43m,\u001b[49m\u001b[43m \u001b[49m\u001b[43md\u001b[49m\u001b[43m)\u001b[49m\n\u001b[1;32m     23\u001b[0m df \u001b[38;5;241m=\u001b[39m f_vco \u001b[38;5;241m-\u001b[39m vco_desired\n\u001b[1;32m     24\u001b[0m fit \u001b[38;5;241m=\u001b[39m math\u001b[38;5;241m.\u001b[39msqrt(df\u001b[38;5;241m*\u001b[39mdf)\n",
      "Cell \u001b[0;32mIn [1], line 3\u001b[0m, in \u001b[0;36mmultisynth\u001b[0;34m(f_clk, a, b, c, d)\u001b[0m\n\u001b[1;32m      1\u001b[0m \u001b[38;5;28;01mimport\u001b[39;00m \u001b[38;5;21;01mmath\u001b[39;00m\n\u001b[0;32m----> 3\u001b[0m \u001b[38;5;28;01mdef\u001b[39;00m \u001b[38;5;21mmultisynth\u001b[39m(f_clk, a, b, c, d):\n\u001b[1;32m      4\u001b[0m     \u001b[38;5;28;01mreturn\u001b[39;00m (f_clk\u001b[38;5;241m/\u001b[39md) \u001b[38;5;241m*\u001b[39m (a \u001b[38;5;241m+\u001b[39m b\u001b[38;5;241m/\u001b[39mc)\n\u001b[1;32m      7\u001b[0m \u001b[38;5;28;01mdef\u001b[39;00m \u001b[38;5;21mget_closest_vco\u001b[39m(f_clk, vco_previous, vco_desired):\n",
      "\u001b[0;31mKeyboardInterrupt\u001b[0m: "
     ]
    },
    {
     "data": {
      "image/png": "[encoded data removed]",
      "text/plain": [
       "<Figure size 640x480 with 1 Axes>"
      ]
     },
     "metadata": {},
     "output_type": "display_data"
    }
   ],
   "source": [
    "import numpy as np\n",
    "import matplotlib.pyplot as plt\n",
    "\n",
    "\n",
    "freq = np.random.uniform(low=1e6, high=150e6, size=1000)\n",
    "data = []\n",
    "\n",
    "for f in freq:\n",
    "    x = synth(25e6, f)\n",
    "    print(f, x)\n",
    "    print(x.keys())\n",
    "    data.append(x['multisynth']['df'])\n",
    "    plt.hist(data, bins='fd')"
   ]
  },
  {
   "cell_type": "markdown",
   "id": "142bd034",
   "metadata": {},
   "source": [
    "## Band Plans\n",
    "\n",
    "Above shows that we can do quadrature synthesis within about 10 Hz of most frequencies. This brute force approach does require a bit too much computation, so we come up with a band plan, over a limited range of frequencies. The basic idea is to use a low VCO frequency at the low end of the band, and to change only one of the synthesizer numbers (either b or c). So a band has a fixed choice of the output divider (for quadrature), and changes only the VCO frequency using a fixed $a$ and $b$\n",
    "\n",
    "The idea is to choose a delta_f for the band as well as f_low and f_high"
   ]
  },
  {
   "cell_type": "code",
   "execution_count": 17,
   "id": "541bfee2",
   "metadata": {},
   "outputs": [
    {
     "data": {
      "text/latex": [
       "$\\displaystyle \\frac{f_{clk} \\left(a + \\frac{b}{c}\\right)}{N}$"
      ],
      "text/plain": [
       "f_clk*(a + b/c)/N"
      ]
     },
     "execution_count": 17,
     "metadata": {},
     "output_type": "execute_result"
    }
   ],
   "source": [
    "import sympy as sp\n",
    "\n",
    "f_low = sp.Symbol('f_low')\n",
    "f_high = sp.Symbol('f_high')\n",
    "N = sp.Symbol('N')\n",
    "f_clk = sp.Symbol('f_clk')\n",
    "\n",
    "a = sp.Symbol('a')\n",
    "c = sp.Symbol('c')\n",
    "b = sp.Symbol('b')\n",
    "f_vco = f_clk * (a + b/c)\n",
    "f = f_vco / N\n",
    "f1 = f.subs(b,b+1)\n",
    "f0 = f.subs(b, 0)\n",
    "f"
   ]
  },
  {
   "cell_type": "code",
   "execution_count": 16,
   "id": "b74266ed",
   "metadata": {},
   "outputs": [
    {
     "data": {
      "text/latex": [
       "$\\displaystyle \\frac{f_{clk}}{N c}$"
      ],
      "text/plain": [
       "f_clk/(N*c)"
      ]
     },
     "execution_count": 16,
     "metadata": {},
     "output_type": "execute_result"
    }
   ],
   "source": [
    "delta_f = sp.simplify(f1 - f)\n",
    "delta_f"
   ]
  },
  {
   "cell_type": "code",
   "execution_count": 18,
   "id": "6f1ee71b",
   "metadata": {},
   "outputs": [
    {
     "data": {
      "text/latex": [
       "$\\displaystyle \\frac{a f_{clk}}{N}$"
      ],
      "text/plain": [
       "a*f_clk/N"
      ]
     },
     "execution_count": 18,
     "metadata": {},
     "output_type": "execute_result"
    }
   ],
   "source": [
    "f0"
   ]
  },
  {
   "cell_type": "markdown",
   "id": "ead43301",
   "metadata": {},
   "source": [
    "So step 1 is to figure out $N$ which is the even clock output multiplier. This is done by using $f_{low}$ and setting the $f_{vco}$ to be just above 600 MHz.\n",
    "\n",
    "N = 2 ceil(600000000 / f_{low})"
   ]
  },
  {
   "cell_type": "code",
   "execution_count": 22,
   "id": "f2975eac",
   "metadata": {},
   "outputs": [
    {
     "data": {
      "text/plain": [
       "12.0"
      ]
     },
     "execution_count": 22,
     "metadata": {},
     "output_type": "execute_result"
    }
   ],
   "source": [
    "f_low = 50e6\n",
    "N =  2*np.ceil(600000000 / (2*f_low) )\n",
    "N"
   ]
  },
  {
   "cell_type": "markdown",
   "id": "49489dc6",
   "metadata": {},
   "source": [
    "Then, once N is established, use f_low to calculate $a$\n",
    "$$ a = N* \\frac{f_{low}}{f_{clk}} $$"
   ]
  },
  {
   "cell_type": "code",
   "execution_count": 42,
   "id": "d0cc7b03",
   "metadata": {},
   "outputs": [
    {
     "data": {
      "text/plain": [
       "24.0"
      ]
     },
     "execution_count": 42,
     "metadata": {},
     "output_type": "execute_result"
    }
   ],
   "source": [
    "f_clk = 25e6\n",
    "a = np.round(N * f_low / f_clk)\n",
    "a"
   ]
  },
  {
   "cell_type": "markdown",
   "id": "b6ee94be",
   "metadata": {},
   "source": [
    "Now work out $c$ from the expression for delta_f."
   ]
  },
  {
   "cell_type": "code",
   "execution_count": 36,
   "id": "ea7790ea",
   "metadata": {},
   "outputs": [
    {
     "data": {
      "text/plain": [
       "20834.0"
      ]
     },
     "execution_count": 36,
     "metadata": {},
     "output_type": "execute_result"
    }
   ],
   "source": [
    "delta_f = 100\n",
    "c = np.ceil(f_clk / (N * delta_f))\n",
    "c"
   ]
  },
  {
   "cell_type": "code",
   "execution_count": 37,
   "id": "5484cc4d",
   "metadata": {},
   "outputs": [
    {
     "data": {
      "text/plain": [
       "99.99680010239672"
      ]
     },
     "execution_count": 37,
     "metadata": {},
     "output_type": "execute_result"
    }
   ],
   "source": [
    "delta_f = f_clk / (N*c)\n",
    "delta_f"
   ]
  },
  {
   "cell_type": "code",
   "execution_count": 38,
   "id": "d2e45741",
   "metadata": {},
   "outputs": [
    {
     "data": {
      "text/plain": [
       "50000099.996800095"
      ]
     },
     "execution_count": 38,
     "metadata": {},
     "output_type": "execute_result"
    }
   ],
   "source": [
    "def f(b):\n",
    "    return f_clk*(a + b/c)/N\n",
    "    \n",
    "f(1)"
   ]
  },
  {
   "cell_type": "code",
   "execution_count": 39,
   "id": "2e8869d0",
   "metadata": {},
   "outputs": [
    {
     "data": {
      "text/plain": [
       "50000199.99360021"
      ]
     },
     "execution_count": 39,
     "metadata": {},
     "output_type": "execute_result"
    }
   ],
   "source": [
    "f(2)"
   ]
  },
  {
   "cell_type": "code",
   "execution_count": 41,
   "id": "331df547",
   "metadata": {},
   "outputs": [
    {
     "data": {
      "text/plain": [
       "50999968.00102397"
      ]
     },
     "execution_count": 41,
     "metadata": {},
     "output_type": "execute_result"
    }
   ],
   "source": [
    "f(10000)"
   ]
  },
  {
   "cell_type": "code",
   "execution_count": null,
   "id": "e9a4cb7b",
   "metadata": {},
   "outputs": [],
   "source": []
  }
 ],
 "metadata": {
  "kernelspec": {
   "display_name": "Python 3 (ipykernel)",
   "language": "python",
   "name": "python3"
  },
  "language_info": {
   "codemirror_mode": {
    "name": "ipython",
    "version": 3
   },
   "file_extension": ".py",
   "mimetype": "text/x-python",
   "name": "python",
   "nbconvert_exporter": "python",
   "pygments_lexer": "ipython3",
   "version": "3.11.2"
  }
 },
 "nbformat": 4,
 "nbformat_minor": 5
}
