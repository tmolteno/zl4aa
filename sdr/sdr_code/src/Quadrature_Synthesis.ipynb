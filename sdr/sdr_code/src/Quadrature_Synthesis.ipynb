{
 "cells": [
  {
   "cell_type": "markdown",
   "id": "7b51a064",
   "metadata": {},
   "source": [
    "# Calculating MS5351M PLL Settings\n",
    "\n",
    "\n",
    "There are several parameters that we can modify to choose the output frequency. The constraint that we want quadrature I/Q outputs as part of CLK0 and CLK1 provides a strong restriction on possible frequencies. We only use PLLA for the quadrature output, as the frequencies are identical.\n",
    "\n",
    "The constraints are:\n",
    "* Quadrature requires an even multiple, $N$, of the output frequency to be the PLL frequency. The delay register (CLKx_PHOFF) must then be set to $N$, to get the quadrature output on the second clock.\n",
    "* The PLL frequency must be between 600 and 900 MHz\n",
    "* THe input clock is $f_{clk} = 25$ MHz.\n",
    "* Above 150 MHz, the output divide ratio, $M_{output} R$, must be 4.\n",
    "\t\t\n",
    "The output frequency is given by the expression\n",
    "$$ f_{vco} = (f_{clk} / D) * M_{feedback} $$\n",
    "$$ f_{out} = \\frac{f_{vco}}{M_{output} R} $$\n",
    "\n",
    "\n",
    "$$ M_{feedback} = a + b/c $$\n",
    "where a, b, c are roughly integers\n",
    "\n",
    "P1[17:0] = (a << 7) + \n",
    "\n"
   ]
  },
  {
   "cell_type": "code",
   "execution_count": 1,
   "id": "6a913864",
   "metadata": {},
   "outputs": [],
   "source": [
    "import numpy as np\n",
    "import matplotlib.pyplot as plt\n"
   ]
  },
  {
   "cell_type": "code",
   "execution_count": 2,
   "id": "279a2faa",
   "metadata": {},
   "outputs": [],
   "source": [
    "import math\n",
    "\n",
    "def multisynth(f_clk, a, b, c, d):\n",
    "    return (f_clk/d) * (a + b/c)\n",
    "\n",
    "\n",
    "def get_closest_vco(f_clk, vco_previous, vco_desired):\n",
    "    best = {}\n",
    "    best['fit'] = 9e99\n",
    "\n",
    "    for d in [1, 2, 4, 8]:\n",
    "        for a in range(1, 90):\n",
    "            for b in range(0, 90):\n",
    "                for c in range(1, 5000):\n",
    "                    \n",
    "                    m = a + b/c\n",
    "                    if m < 15:\n",
    "                        break\n",
    "                    if m > 90:\n",
    "                        break\n",
    "                        \n",
    "                    f_vco = multisynth(f_clk, a, b, c, d)\n",
    "                    df = f_vco - vco_desired\n",
    "                    fit = math.sqrt(df*df)\n",
    "                    if fit < best['fit']:\n",
    "                        best['fit'] = fit\n",
    "                        best['a'] = a\n",
    "                        best['b'] = b\n",
    "                        best['c'] = c\n",
    "                        best['d'] = d\n",
    "                        best['f_vco'] = f_vco\n",
    "                        best['df'] = df\n",
    "                    if fit < 1.0:\n",
    "                        return best\n",
    "    print(best)            \n",
    "    return best\n",
    "        \n",
    "def synth(f_clk, f_desired):\n",
    "    ret = {}\n",
    "    \n",
    "    if f_desired > 150e6:\n",
    "        n_start = 2\n",
    "        n_stop = 2\n",
    "        N = 4\n",
    "    else:\n",
    "        # Search for best f_vco (an even integer multiple)        \n",
    "        n_stop = math.floor(900e6 / (2*f_desired))+1\n",
    "        n_start = math.floor(600e6 / (2*f_desired))\n",
    "                \n",
    "    best = {}\n",
    "    best['fit'] = 9e99\n",
    "        \n",
    "    for n in range(n_start, n_stop+1):\n",
    "        N = 2*n # Use even multipliers only for quadrature\n",
    "        f_vco = f_desired*N\n",
    "        if (f_vco > 600e6) and (f_vco < 900e6):\n",
    "            # Now try and get f_vco from f_in\n",
    "                \n",
    "            test = get_closest_vco(f_clk, f_vco, f_vco)\n",
    "                \n",
    "            if test['fit'] < best['fit']:\n",
    "                best = test\n",
    "                    \n",
    "            if best['fit'] < 1:\n",
    "                break\n",
    "    ret['multisynth'] = best\n",
    "    ret['f'] = best['f_vco']/N\n",
    "    ret['N'] = N\n",
    "\n",
    "    \n",
    "    return ret"
   ]
  },
  {
   "cell_type": "code",
   "execution_count": 3,
   "id": "0fc0249b",
   "metadata": {
    "scrolled": true
   },
   "outputs": [
    {
     "name": "stdout",
     "output_type": "stream",
     "text": [
      "{'fit': 512.8205128908157, 'a': 49, 'b': 38, 'c': 39, 'd': 2, 'f_vco': 624679487.1794871, 'df': -512.8205128908157}\n"
     ]
    },
    {
     "data": {
      "text/plain": [
       "{'multisynth': {'fit': 0.0,\n",
       "  'a': 26,\n",
       "  'b': 46,\n",
       "  'c': 625,\n",
       "  'd': 1,\n",
       "  'f_vco': 651840000.0,\n",
       "  'df': 0.0},\n",
       " 'f': 13580000.0,\n",
       " 'N': 48}"
      ]
     },
     "execution_count": 3,
     "metadata": {},
     "output_type": "execute_result"
    }
   ],
   "source": [
    "synth(25e6, 13580000)"
   ]
  },
  {
   "cell_type": "code",
   "execution_count": 4,
   "id": "9de6029d",
   "metadata": {},
   "outputs": [],
   "source": [
    "freq = np.random.uniform(low=1e6, high=150e6, size=1000)\n",
    "data = []\n",
    "\n",
    "if False:\n",
    "    for f in freq:\n",
    "        x = synth(25e6, f)\n",
    "        print(f, x)\n",
    "        print(x.keys())\n",
    "        data.append(x['multisynth']['df'])\n",
    "        plt.hist(data, bins='fd')"
   ]
  },
  {
   "cell_type": "markdown",
   "id": "142bd034",
   "metadata": {},
   "source": [
    "## Band Plans\n",
    "\n",
    "Above shows that we can do quadrature synthesis within about 10 Hz of most frequencies. This brute force approach does require a bit too much computation, so we come up with a band plan, over a limited range of frequencies. The basic idea is to use a low VCO frequency at the low end of the band, and to change only one of the synthesizer numbers (either b or c). So a band has a fixed choice of the output divider (for quadrature), and changes only the VCO frequency using a fixed $a$ and $b$\n",
    "\n",
    "The idea is to choose a delta_f for the band as well as f_low and f_high"
   ]
  },
  {
   "cell_type": "code",
   "execution_count": 5,
   "id": "541bfee2",
   "metadata": {},
   "outputs": [
    {
     "data": {
      "text/latex": [
       "$\\displaystyle \\frac{f_{clk} \\left(a + \\frac{b}{c}\\right)}{N}$"
      ],
      "text/plain": [
       "f_clk*(a + b/c)/N"
      ]
     },
     "execution_count": 5,
     "metadata": {},
     "output_type": "execute_result"
    }
   ],
   "source": [
    "import sympy as sp\n",
    "\n",
    "f_low = sp.Symbol('f_low')\n",
    "f_high = sp.Symbol('f_high')\n",
    "N = sp.Symbol('N')\n",
    "f_clk = sp.Symbol('f_clk')\n",
    "\n",
    "a = sp.Symbol('a')\n",
    "c = sp.Symbol('c')\n",
    "b = sp.Symbol('b')\n",
    "f_vco = f_clk * (a + b/c)\n",
    "f = f_vco / N\n",
    "f1 = f.subs(b,b+1)\n",
    "f0 = f.subs(b,b)\n",
    "f"
   ]
  },
  {
   "cell_type": "code",
   "execution_count": 6,
   "id": "b74266ed",
   "metadata": {},
   "outputs": [
    {
     "data": {
      "text/latex": [
       "$\\displaystyle \\frac{f_{clk}}{N c}$"
      ],
      "text/plain": [
       "f_clk/(N*c)"
      ]
     },
     "execution_count": 6,
     "metadata": {},
     "output_type": "execute_result"
    }
   ],
   "source": [
    "delta_f = sp.simplify(f1 - f)\n",
    "delta_f"
   ]
  },
  {
   "cell_type": "code",
   "execution_count": 7,
   "id": "6f1ee71b",
   "metadata": {},
   "outputs": [
    {
     "data": {
      "text/latex": [
       "$\\displaystyle \\frac{f_{clk} \\left(a + \\frac{b}{c}\\right)}{N}$"
      ],
      "text/plain": [
       "f_clk*(a + b/c)/N"
      ]
     },
     "execution_count": 7,
     "metadata": {},
     "output_type": "execute_result"
    }
   ],
   "source": [
    "f0"
   ]
  },
  {
   "cell_type": "markdown",
   "id": "ead43301",
   "metadata": {},
   "source": [
    "So step 1 is to figure out $N$ which is the even clock output multiplier. This is done by using $f_{low}$ and setting the $f_{vco}$ to be just above 600 MHz.\n",
    "\n",
    "$$ N = 2 ceil \\left( \\frac{600,000,000}{ 2 f_{low}} \\right) $$"
   ]
  },
  {
   "cell_type": "markdown",
   "id": "49489dc6",
   "metadata": {},
   "source": [
    "Then, once N is established, use f_low to calculate $a$\n",
    "$$ a = N* \\frac{f_{low}}{f_{clk}} $$"
   ]
  },
  {
   "cell_type": "markdown",
   "id": "b6ee94be",
   "metadata": {},
   "source": [
    "Now work out $c$ from the expression for delta_f."
   ]
  },
  {
   "cell_type": "markdown",
   "id": "3f3691d1",
   "metadata": {},
   "source": [
    "## A Band Class\n",
    "\n",
    "Lets us do all the necessary setup."
   ]
  },
  {
   "cell_type": "code",
   "execution_count": 34,
   "id": "d2e45741",
   "metadata": {},
   "outputs": [],
   "source": [
    "class Band:\n",
    "    def __init__(self, f_clk, f_low, delta_f, f_high):\n",
    "        self.f_clk = f_clk\n",
    "        self.f_low = f_low\n",
    "        self.delta_f = delta_f\n",
    "        self.f_high = f_high\n",
    "\n",
    "        self.N = 2*np.ceil(600000000 / (2*self.f_low) )\n",
    "        self.a =  np.floor(self.N * self.f_low / self.f_clk)\n",
    "        self.c = np.ceil(self.f_clk / (self.N * self.delta_f))\n",
    "\n",
    "        a_frac = (self.N * self.f_low / self.f_clk) - self.a\n",
    "        self.b0 = np.floor(a_frac*self.c)\n",
    "\n",
    "    def get_actual_delta_f(self):\n",
    "        return self.f_clk / (self.N*self.c)\n",
    "    \n",
    "    def f(self, b):\n",
    "        f_vco = self.f_clk*(self.a + ((self.b0 + b) / self.c))\n",
    "        return f_vco / self.N\n",
    "    \n",
    "    def __repr__(self):\n",
    "        return f\"a: {self.a}, N: {self.N}, b0: {self.b0} c: {self.c}, df: {self.get_actual_delta_f()}, vco_lo={self.f_clk*self.a}\""
   ]
  },
  {
   "cell_type": "code",
   "execution_count": 35,
   "id": "2e8869d0",
   "metadata": {},
   "outputs": [
    {
     "data": {
      "text/plain": [
       "a: 24.0, N: 12.0, b0: 0.0 c: 208334.0, df: 9.999968000102399, vco_lo=600000000.0"
      ]
     },
     "execution_count": 35,
     "metadata": {},
     "output_type": "execute_result"
    }
   ],
   "source": [
    "b6 = Band(f_clk=25e6, f_low=50e6, delta_f=10, f_high=51e6)\n",
    "b6"
   ]
  },
  {
   "cell_type": "code",
   "execution_count": 36,
   "id": "331df547",
   "metadata": {},
   "outputs": [
    {
     "data": {
      "text/plain": [
       "a: 24.0, N: 334.0, b0: 359.0 c: 7486.0, df: 9.998704167939835, vco_lo=600000000.0"
      ]
     },
     "execution_count": 36,
     "metadata": {},
     "output_type": "execute_result"
    }
   ],
   "source": [
    "b160 = Band(f_clk=25e6, f_low=1.8e6, delta_f=10, f_high=1.95e6)\n",
    "b160"
   ]
  },
  {
   "cell_type": "code",
   "execution_count": 37,
   "id": "e9a4cb7b",
   "metadata": {},
   "outputs": [
    {
     "data": {
      "text/plain": [
       "a: 24.0, N: 172.0, b0: 1162.0 c: 14535.0, df: 9.999920000639994, vco_lo=600000000.0"
      ]
     },
     "execution_count": 37,
     "metadata": {},
     "output_type": "execute_result"
    }
   ],
   "source": [
    "b80 = Band(f_clk=25e6, f_low=3.5e6, delta_f=10, f_high=3.9e6)\n",
    "b80"
   ]
  },
  {
   "cell_type": "code",
   "execution_count": 38,
   "id": "fe8ec125",
   "metadata": {},
   "outputs": [
    {
     "data": {
      "text/plain": [
       "a: 24.0, N: 86.0, b0: 2325.0 c: 29070.0, df: 9.999920000639994, vco_lo=600000000.0"
      ]
     },
     "execution_count": 38,
     "metadata": {},
     "output_type": "execute_result"
    }
   ],
   "source": [
    "b40 = Band(f_clk=25e6, f_low=7.00e6, delta_f=10, f_high=7.3e6)\n",
    "b40"
   ]
  },
  {
   "cell_type": "code",
   "execution_count": 39,
   "id": "900791c9",
   "metadata": {},
   "outputs": [
    {
     "data": {
      "text/plain": [
       "a: 24.0, N: 44.0, b0: 36364.0 c: 56819.0, df: 9.999856002073571, vco_lo=600000000.0"
      ]
     },
     "execution_count": 39,
     "metadata": {},
     "output_type": "execute_result"
    }
   ],
   "source": [
    "b20 = Band(f_clk=25e6, f_low=14e6, delta_f=10, f_high=14.35e6)\n",
    "b20"
   ]
  },
  {
   "cell_type": "code",
   "execution_count": 40,
   "id": "ab33de7c",
   "metadata": {},
   "outputs": [
    {
     "data": {
      "text/plain": [
       "a: 24.0, N: 22.0, b0: 72727.0 c: 113637.0, df: 9.999944000313599, vco_lo=600000000.0"
      ]
     },
     "execution_count": 40,
     "metadata": {},
     "output_type": "execute_result"
    }
   ],
   "source": [
    "b10 = Band(f_clk=25e6, f_low=28e6, delta_f=10, f_high=29.7e6)\n",
    "b10"
   ]
  },
  {
   "cell_type": "code",
   "execution_count": 41,
   "id": "bbf11f1a",
   "metadata": {},
   "outputs": [
    {
     "data": {
      "text/plain": [
       "a: 34.0, N: 6.0, b0: 233333.0 c: 416667.0, df: 9.9999920000064, vco_lo=850000000.0"
      ]
     },
     "execution_count": 41,
     "metadata": {},
     "output_type": "execute_result"
    }
   ],
   "source": [
    "b2 = Band(f_clk=25e6, f_low=144e6, delta_f=10, f_high=148e6)\n",
    "b2"
   ]
  },
  {
   "cell_type": "code",
   "execution_count": 46,
   "id": "19719424",
   "metadata": {},
   "outputs": [
    {
     "data": {
      "text/plain": [
       "144000024.79998013"
      ]
     },
     "execution_count": 46,
     "metadata": {},
     "output_type": "execute_result"
    }
   ],
   "source": [
    "b2.f(3)"
   ]
  },
  {
   "cell_type": "code",
   "execution_count": 43,
   "id": "1b3e8e29",
   "metadata": {},
   "outputs": [
    {
     "data": {
      "text/plain": [
       "50000000.0"
      ]
     },
     "execution_count": 43,
     "metadata": {},
     "output_type": "execute_result"
    }
   ],
   "source": [
    "b6.f(0)"
   ]
  },
  {
   "cell_type": "code",
   "execution_count": null,
   "id": "caff98d6",
   "metadata": {},
   "outputs": [],
   "source": []
  }
 ],
 "metadata": {
  "kernelspec": {
   "display_name": "Python 3 (ipykernel)",
   "language": "python",
   "name": "python3"
  },
  "language_info": {
   "codemirror_mode": {
    "name": "ipython",
    "version": 3
   },
   "file_extension": ".py",
   "mimetype": "text/x-python",
   "name": "python",
   "nbconvert_exporter": "python",
   "pygments_lexer": "ipython3",
   "version": "3.11.2"
  }
 },
 "nbformat": 4,
 "nbformat_minor": 5
}
